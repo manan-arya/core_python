{
 "cells": [
  {
   "cell_type": "code",
   "execution_count": 58,
   "metadata": {},
   "outputs": [],
   "source": [
    "import numpy as np"
   ]
  },
  {
   "cell_type": "code",
   "execution_count": 59,
   "metadata": {},
   "outputs": [],
   "source": [
    "def mcm(lst):\n",
    "    m = np.zeros((len(lst)-1,len(lst)-1))\n",
    "    s = np.zeros((len(lst)-1,len(lst)-1))\n",
    "    j,k = 0,0\n",
    "    for i in range(len(m)-1,-1,-1):\n",
    "        for j in range(len(m)):\n",
    "            if j > i:\n",
    "                k = i+1\n",
    "                q = {}\n",
    "                while k>i and k<=j:\n",
    "                    q[k] = m[i][k-1] + m[k][j] + lst[i]*lst[k]*lst[j+1]\n",
    "                    k+=1\n",
    "                key = min(q, key = q.get)\n",
    "                m[i][j] = q[key]\n",
    "                s[i][j] = key\n",
    "                \n",
    "    print(m)\n",
    "    print(s)"
   ]
  },
  {
   "cell_type": "code",
   "execution_count": 60,
   "metadata": {},
   "outputs": [],
   "source": [
    "#lst = [5,4,6,2,7]\n",
    "#mcm(lst)"
   ]
  }
 ],
 "metadata": {
  "kernelspec": {
   "display_name": "Python 3",
   "language": "python",
   "name": "python3"
  }
 },
 "nbformat": 4,
 "nbformat_minor": 2
}
