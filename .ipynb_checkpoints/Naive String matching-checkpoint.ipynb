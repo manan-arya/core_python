{
 "cells": [
  {
   "cell_type": "code",
   "execution_count": 8,
   "metadata": {},
   "outputs": [],
   "source": [
    "def naive_match(string,pat):\n",
    "    for i in range(len(string)-len(pat)+1):\n",
    "        if string[i] == pat[0]:\n",
    "            r = i \n",
    "            for j in range(len(pat)):\n",
    "                k = 0\n",
    "                if string[r] != pat[j]:\n",
    "                    k=1\n",
    "                    break\n",
    "                r += 1\n",
    "            if k == 0:\n",
    "                print(\"Match found at position\"+str(i+1))\n",
    "                "
   ]
  },
  {
   "cell_type": "code",
   "execution_count": 9,
   "metadata": {},
   "outputs": [
    {
     "name": "stdout",
     "output_type": "stream",
     "text": [
      "Match found at position1\n",
      "Match found at position10\n",
      "Match found at position14\n"
     ]
    }
   ],
   "source": [
    "#string = \"AABAACAADAABAAABAA\"\n",
    "#pat = \"AABA\"\n",
    "#naive_match(string,pat)"
   ]
  }
 ],
 "metadata": {
  "kernelspec": {
   "display_name": "Python 3",
   "language": "python",
   "name": "python3"
  },
  "language_info": {
   "codemirror_mode": {
    "name": "ipython",
    "version": 3
   },
   "file_extension": ".py",
   "mimetype": "text/x-python",
   "name": "python",
   "nbconvert_exporter": "python",
   "pygments_lexer": "ipython3",
   "version": "3.6.5"
  }
 },
 "nbformat": 4,
 "nbformat_minor": 2
}
