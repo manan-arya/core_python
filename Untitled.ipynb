{
 "cells": [
  {
   "cell_type": "code",
   "execution_count": 31,
   "metadata": {},
   "outputs": [],
   "source": [
    "def merge_sort(a):\n",
    "    l1,l2 = split(a)\n",
    "    i,j,count = 0,0,0\n",
    "    final = []\n",
    "    while count < len(l1) + len(l2) - 2:\n",
    "        print(str(l1[i])+' vs '+str(l2[j]))\n",
    "        if l1[i] < l2[j]:\n",
    "            final.append(l1[i])\n",
    "            i += 1\n",
    "        else:\n",
    "            final.append(l2[j])\n",
    "            j += 1\n",
    "        \n",
    "        count += 1\n",
    "    print(final)"
   ]
  },
  {
   "cell_type": "code",
   "execution_count": 32,
   "metadata": {},
   "outputs": [],
   "source": [
    "import math\n",
    "def split(a):\n",
    "    l1 = a[:len(a)//2]\n",
    "    l2 = a[len(a)//2:]\n",
    "    l1.append(math.inf)\n",
    "    l2.append(math.inf)\n",
    "    print(l1,l2)\n",
    "    return l1,l2"
   ]
  },
  {
   "cell_type": "code",
   "execution_count": 33,
   "metadata": {},
   "outputs": [
    {
     "name": "stdout",
     "output_type": "stream",
     "text": [
      "[1, 3, 5, inf] [2, 4, 6, inf]\n",
      "1 vs 2\n",
      "3 vs 2\n",
      "3 vs 4\n",
      "5 vs 4\n",
      "5 vs 6\n",
      "inf vs 6\n",
      "[1, 2, 3, 4, 5, 6]\n"
     ]
    }
   ],
   "source": [
    "a = [1,3,5,2,4,6]\n",
    "merge_sort(a)"
   ]
  },
  {
   "cell_type": "code",
   "execution_count": 55,
   "metadata": {},
   "outputs": [
    {
     "name": "stdout",
     "output_type": "stream",
     "text": [
      "Given array is\n",
      "12 11 13 5 6 7 \n",
      "l=[11]r=[13]\n",
      "l=[12]r=[11, 13]\n",
      "l=[6]r=[7]\n",
      "l=[5]r=[6, 7]\n",
      "l=[11, 12, 13]r=[5, 6, 7]\n",
      "Sorted array is: \n",
      "5 6 7 11 12 13 \n"
     ]
    }
   ],
   "source": [
    "\n",
    "# Python program for implementation of MergeSort \n",
    "def mergeSort(arr):\n",
    "    if len(arr) >1:\n",
    "        mid = len(arr)//2 #Finding the mid of the array \n",
    "        L = arr[:mid] # Dividing the array elements  \n",
    "        R = arr[mid:] # into 2 halves \n",
    "        i = j = k = 0\n",
    "        \n",
    "        mergeSort(L)\n",
    "        mergeSort(R)\n",
    "        print(\"l=\"+str(L)+\"r=\"+str(R))\n",
    "          \n",
    "        # Copy data to temp arrays L[] and R[] \n",
    "        while i < len(L) and j < len(R):\n",
    "            if L[i] < R[j]: \n",
    "                arr[k] = L[i] \n",
    "                i+=1\n",
    "            else: \n",
    "                arr[k] = R[j] \n",
    "                j+=1\n",
    "            k+=1\n",
    "          \n",
    "        # Checking if any element was left \n",
    "        while i < len(L): \n",
    "            arr[k] = L[i] \n",
    "            i+=1\n",
    "            k+=1\n",
    "          \n",
    "        while j < len(R): \n",
    "            arr[k] = R[j] \n",
    "            j+=1\n",
    "            k+=1\n",
    "  \n",
    "# Code to print the list \n",
    "def printList(arr): \n",
    "    for i in range(len(arr)):        \n",
    "        print(arr[i],end=\" \") \n",
    "    print() \n",
    "  \n",
    "# driver code to test the above code \n",
    "if __name__ == '__main__': \n",
    "    arr = [12, 11, 13, 5, 6, 7]  \n",
    "    print (\"Given array is\", end=\"\\n\")  \n",
    "    printList(arr) \n",
    "    mergeSort(arr) \n",
    "    print(\"Sorted array is: \", end=\"\\n\") \n",
    "    printList(arr) \n",
    "  "
   ]
  },
  {
   "cell_type": "code",
   "execution_count": 45,
   "metadata": {},
   "outputs": [],
   "source": [
    "def splitA(a):\n",
    "    if len(a) > 1:\n",
    "        L = a[:len(a)//2]\n",
    "        R = a[len(a)//2:]\n",
    "        split(L)\n",
    "        split(R)\n",
    "    return L,R"
   ]
  },
  {
   "cell_type": "code",
   "execution_count": 46,
   "metadata": {},
   "outputs": [],
   "source": [
    "def merge(L,R):\n",
    "    i,j,count = 0,0,0\n",
    "    final = []\n",
    "    while count < len(l1) + len(l2) - 2:\n",
    "        print(str(l1[i])+' vs '+str(l2[j]))\n",
    "        if l1[i] < l2[j]:\n",
    "            final.append(l1[i])\n",
    "            i += 1\n",
    "        else:\n",
    "            final.append(l2[j])\n",
    "            j += 1\n",
    "        \n",
    "        count += 1"
   ]
  },
  {
   "cell_type": "code",
   "execution_count": null,
   "metadata": {},
   "outputs": [],
   "source": [
    "def merge_sort(a):\n",
    "    L,R = split(a)"
   ]
  }
 ],
 "metadata": {
  "kernelspec": {
   "display_name": "Python 3",
   "language": "python",
   "name": "python3"
  },
  "language_info": {
   "codemirror_mode": {
    "name": "ipython",
    "version": 3
   },
   "file_extension": ".py",
   "mimetype": "text/x-python",
   "name": "python",
   "nbconvert_exporter": "python",
   "pygments_lexer": "ipython3",
   "version": "3.6.5"
  }
 },
 "nbformat": 4,
 "nbformat_minor": 2
}
