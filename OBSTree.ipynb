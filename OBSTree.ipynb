{
 "cells": [
  {
   "cell_type": "code",
   "execution_count": 7,
   "metadata": {},
   "outputs": [],
   "source": [
    "import numpy as np"
   ]
  },
  {
   "cell_type": "code",
   "execution_count": 8,
   "metadata": {},
   "outputs": [],
   "source": [
    "def obst_table(lst,freq):\n",
    "    c = np.zeros((len(lst)+1,len(lst)+1))\n",
    "    r = np.zeros((len(lst)+1,len(lst)+1))\n",
    "    for i in range(len(c)-1,-1,-1):\n",
    "        for j in range(len(c)):\n",
    "            k = 0\n",
    "            if i < j:\n",
    "                w = sum(freq[i:j])\n",
    "                print(w)\n",
    "                k = i+1\n",
    "                q = {}\n",
    "                while k > i and k <=j:\n",
    "                    q[k] = c[i][k-1]+c[k][j] + w\n",
    "                    key = min(q, key = q.get)\n",
    "                    c[i][j] = q[key]\n",
    "                    r[i][j] = key\n",
    "                    k += 1\n",
    "    print(c)\n",
    "    print(r)"
   ]
  },
  {
   "cell_type": "code",
   "execution_count": 9,
   "metadata": {},
   "outputs": [
    {
     "name": "stdout",
     "output_type": "stream",
     "text": [
      "3\n",
      "6\n",
      "9\n",
      "2\n",
      "8\n",
      "11\n",
      "4\n",
      "6\n",
      "12\n",
      "15\n",
      "[[ 0.  4.  8. 20. 26.]\n",
      " [ 0.  0.  2. 10. 16.]\n",
      " [ 0.  0.  0.  6. 12.]\n",
      " [ 0.  0.  0.  0.  3.]\n",
      " [ 0.  0.  0.  0.  0.]]\n",
      "[[0. 1. 1. 3. 3.]\n",
      " [0. 0. 2. 3. 3.]\n",
      " [0. 0. 0. 3. 3.]\n",
      " [0. 0. 0. 0. 4.]\n",
      " [0. 0. 0. 0. 0.]]\n"
     ]
    }
   ],
   "source": [
    "#obst_table([10,20,30,40],[4,2,6,3])"
   ]
  }
 ],
 "metadata": {
  "kernelspec": {
   "display_name": "Python 3",
   "language": "python",
   "name": "python3"
  },
  "language_info": {
   "codemirror_mode": {
    "name": "ipython",
    "version": 3
   },
   "file_extension": ".py",
   "mimetype": "text/x-python",
   "name": "python",
   "nbconvert_exporter": "python",
   "pygments_lexer": "ipython3",
   "version": "3.6.5"
  }
 },
 "nbformat": 4,
 "nbformat_minor": 2
}
