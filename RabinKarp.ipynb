{
 "cells": [
  {
   "cell_type": "markdown",
   "metadata": {},
   "source": [
    "hash( txt[s+1 .. s+m] ) = ( d ( hash( txt[s .. s+m-1]) – txt[s]*h ) + txt[s + m] ) mod q tring):\n",
    "        "
   ]
  },
  {
   "cell_type": "code",
   "execution_count": 29,
   "metadata": {},
   "outputs": [],
   "source": [
    "d = 256\n",
    "def rabin_karp(string,pat,q):\n",
    "    m = len(pat)\n",
    "    n = len(string)\n",
    "    h = pow(d,m-1)%q\n",
    "    p,t = 0,0\n",
    "    for i in range(m):\n",
    "        p = (d*p +  ord(pat[i]))%q\n",
    "        t = (d*t + ord(string[i]))%q\n",
    "    \n",
    "    for i in range(n -m + 1):\n",
    "        if p == t:\n",
    "            k = 0\n",
    "            for j in range(m):\n",
    "                 if string[i+j] != pat[j]:\n",
    "                    k=1\n",
    "                    break\n",
    "            if k == 0:\n",
    "                 print(\"Pattern found at index \"+str(i+1))\n",
    "        if i < n-m:\n",
    "            t = (d*(t-ord(string[i])*h)+ord(string[i+m]))%q\n",
    "        if t < 0:\n",
    "             t = t+q\n",
    "                 "
   ]
  },
  {
   "cell_type": "code",
   "execution_count": 31,
   "metadata": {},
   "outputs": [],
   "source": [
    "#string = \"ABCDEFG\"\n",
    "#pat = \"FG\"\n",
    "#q = 101\n",
    "#rabin_karp(string,pat,q)"
   ]
  }
 ],
 "metadata": {
  "kernelspec": {
   "display_name": "Python 3",
   "language": "python",
   "name": "python3"
  },
  "language_info": {
   "codemirror_mode": {
    "name": "ipython",
    "version": 3
   },
   "file_extension": ".py",
   "mimetype": "text/x-python",
   "name": "python",
   "nbconvert_exporter": "python",
   "pygments_lexer": "ipython3",
   "version": "3.6.5"
  }
 },
 "nbformat": 4,
 "nbformat_minor": 2
}
