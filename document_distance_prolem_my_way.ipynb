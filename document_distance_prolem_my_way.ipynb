{
 "cells": [
  {
   "cell_type": "code",
   "execution_count": 143,
   "metadata": {},
   "outputs": [],
   "source": [
    "import sys\n",
    "import math\n",
    "import time"
   ]
  },
  {
   "cell_type": "code",
   "execution_count": 144,
   "metadata": {},
   "outputs": [],
   "source": [
    "start_time = time.time()"
   ]
  },
  {
   "cell_type": "code",
   "execution_count": 145,
   "metadata": {},
   "outputs": [],
   "source": [
    "def get_lines(filename):\n",
    "    try:\n",
    "        f = open(filename,'r')\n",
    "        return f.readlines()\n",
    "    except IOError:\n",
    "        print(\"Enter opening the file\",filename)"
   ]
  },
  {
   "cell_type": "markdown",
   "metadata": {},
   "source": [
    "# 1 : Getting the words"
   ]
  },
  {
   "cell_type": "code",
   "execution_count": 146,
   "metadata": {},
   "outputs": [],
   "source": [
    "def get_words(filename):\n",
    "    lines = get_lines(filename)\n",
    "    words_list = []\n",
    "    for line in lines:\n",
    "        #print(line)\n",
    "        words_in_line = get_words_from_string(line)\n",
    "        #print(words_in_line)\n",
    "        words_list = words_list + words_in_line\n",
    "        #print(word_list)\n",
    "    return words_list"
   ]
  },
  {
   "cell_type": "code",
   "execution_count": 147,
   "metadata": {},
   "outputs": [],
   "source": [
    "def get_words_from_string(line):\n",
    "    lst = []\n",
    "    character_list = []\n",
    "    for c in line:\n",
    "        if c.isalnum():\n",
    "            #print(c)\n",
    "            character_list.append(c)\n",
    "            #print(character_list)\n",
    "        elif c == ' ':\n",
    "            if len(character_list) > 0:\n",
    "                new_word = ''.join(character_list)\n",
    "                #print(new_word)\n",
    "                lst.append(new_word)\n",
    "                del character_list[:]\n",
    "                #print(lst)\n",
    "    return lst"
   ]
  },
  {
   "cell_type": "markdown",
   "metadata": {},
   "source": [
    "# 2 : Finding the frequencies"
   ]
  },
  {
   "cell_type": "code",
   "execution_count": 148,
   "metadata": {},
   "outputs": [],
   "source": [
    "def find_frequency(words_list):\n",
    "    freq_dict = {}\n",
    "    for word in words_list:\n",
    "        if word not in freq_dict.keys():\n",
    "            freq_dict[word] = 1\n",
    "        elif word in freq_dict.keys():\n",
    "            freq_dict[word] += 1\n",
    "    return freq_dict"
   ]
  },
  {
   "cell_type": "markdown",
   "metadata": {},
   "source": [
    "# 3 : Comparing documents"
   ]
  },
  {
   "cell_type": "code",
   "execution_count": 149,
   "metadata": {},
   "outputs": [],
   "source": [
    "def dot_product(dict1,dict2):\n",
    "    suma = 0.0\n",
    "    for key1,value1 in dict1.items():\n",
    "        for key2,value2 in dict2.items():\n",
    "            if key1 == key2:\n",
    "                suma += dict1[key1] * dict2[key2]\n",
    "    return suma"
   ]
  },
  {
   "cell_type": "code",
   "execution_count": 150,
   "metadata": {},
   "outputs": [],
   "source": [
    "def get_angle(dict1,dict2):\n",
    "    num = dot_product(dict1,dict2)\n",
    "    den = math.sqrt(dot_product(dict1,dict1)*dot_product(dict2,dict2))\n",
    "    return math.acos(num/den)"
   ]
  },
  {
   "cell_type": "code",
   "execution_count": 151,
   "metadata": {},
   "outputs": [
    {
     "name": "stdout",
     "output_type": "stream",
     "text": [
      "Angle between the two files is 0.0 radians\n"
     ]
    }
   ],
   "source": [
    "l1 = get_words('./tere.txt')\n",
    "l2 = get_words('./tere.txt')\n",
    "dict1 = find_frequency(l1)\n",
    "dict2 = find_frequency(l2)\n",
    "angle = get_angle(dict1,dict2)\n",
    "print(\"Angle between the two files is \"+str(angle)+\" radians\")"
   ]
  },
  {
   "cell_type": "code",
   "execution_count": 152,
   "metadata": {},
   "outputs": [
    {
     "name": "stdout",
     "output_type": "stream",
     "text": [
      "1.1099982261657715\n"
     ]
    }
   ],
   "source": [
    "print(time.time() - start_time)"
   ]
  }
 ],
 "metadata": {
  "kernelspec": {
   "display_name": "Python 3",
   "language": "python",
   "name": "python3"
  },
  "language_info": {
   "codemirror_mode": {
    "name": "ipython",
    "version": 3
   },
   "file_extension": ".py",
   "mimetype": "text/x-python",
   "name": "python",
   "nbconvert_exporter": "python",
   "pygments_lexer": "ipython3",
   "version": "3.6.5"
  }
 },
 "nbformat": 4,
 "nbformat_minor": 2
}
