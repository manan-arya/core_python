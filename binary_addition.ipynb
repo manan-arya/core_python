{
 "cells": [
  {
   "cell_type": "code",
   "execution_count": 1,
   "metadata": {},
   "outputs": [],
   "source": [
    "def add(a,b,c):\n",
    "    s = a+b+c\n",
    "    if s == 3:\n",
    "        return 1,1\n",
    "    elif s == 2:\n",
    "        return 1,0\n",
    "    elif s== 1:\n",
    "        return 0,1\n",
    "    elif s == 0:\n",
    "        return 0,0"
   ]
  },
  {
   "cell_type": "code",
   "execution_count": 7,
   "metadata": {},
   "outputs": [],
   "source": [
    "def binary_addition(A,B):\n",
    "    C = [0]\n",
    "    S = []\n",
    "    j = 0\n",
    "    for i in range(len(A)-1,-1,-1):\n",
    "        c,s = add(A[i],B[i],C[j])\n",
    "        #print(c,s)\n",
    "        S.append(s)\n",
    "        C.append(c)\n",
    "        j += 1\n",
    "    S.append(c)\n",
    "\n",
    "    j = len(S) - 1\n",
    "    for i in range(len(S)//2):\n",
    "        S[i],S[j] = S[j],S[i]\n",
    "        j-=1\n",
    "    return S"
   ]
  },
  {
   "cell_type": "code",
   "execution_count": 10,
   "metadata": {},
   "outputs": [
    {
     "name": "stdout",
     "output_type": "stream",
     "text": [
      "[1, 0, 1, 1, 0, 0]\n"
     ]
    }
   ],
   "source": [
    "A = [1,0,1,1,1]\n",
    "B = [1,0,1,0,1]\n",
    "S = binary_addition(A,B)    \n",
    "print(S)\n",
    "#print(C)"
   ]
  }
 ],
 "metadata": {
  "kernelspec": {
   "display_name": "Python 3",
   "language": "python",
   "name": "python3"
  },
  "language_info": {
   "codemirror_mode": {
    "name": "ipython",
    "version": 3
   },
   "file_extension": ".py",
   "mimetype": "text/x-python",
   "name": "python",
   "nbconvert_exporter": "python",
   "pygments_lexer": "ipython3",
   "version": "3.6.5"
  }
 },
 "nbformat": 4,
 "nbformat_minor": 2
}
