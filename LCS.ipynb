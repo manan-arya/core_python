{
 "cells": [
  {
   "cell_type": "code",
   "execution_count": 96,
   "metadata": {},
   "outputs": [],
   "source": [
    "import numpy as np"
   ]
  },
  {
   "cell_type": "code",
   "execution_count": 97,
   "metadata": {},
   "outputs": [],
   "source": [
    "def lcs(string,sub):\n",
    "    mat = np.zeros((len(sub)+1,len(string)+1))\n",
    "    lc = \"\"\n",
    "    for i in range(1,mat.shape[0]):\n",
    "        for j in range(1,mat.shape[1]):\n",
    "            if(sub[i-1]==string[j-1]):\n",
    "                lc += string[j-1]\n",
    "                mat[i][j] = mat[i-1][j-1]+1\n",
    "            else:\n",
    "                mat[i][j] = max(mat[i-1][j],mat[i][j-1])\n",
    "    print(int(mat[i][j]))\n",
    "    print(lc)"
   ]
  },
  {
   "cell_type": "code",
   "execution_count": 98,
   "metadata": {},
   "outputs": [],
   "source": [
    "#string = \"ABCD\"\n",
    "#sub = \"BD\"\n",
    "#lcs(string,sub)"
   ]
  }
 ],
 "metadata": {
  "kernelspec": {
   "display_name": "Python 3",
   "language": "python",
   "name": "python3"
  },
  "language_info": {
   "codemirror_mode": {
    "name": "ipython",
    "version": 3
   },
   "file_extension": ".py",
   "mimetype": "text/x-python",
   "name": "python",
   "nbconvert_exporter": "python",
   "pygments_lexer": "ipython3",
   "version": "3.6.5"
  }
 },
 "nbformat": 4,
 "nbformat_minor": 2
}
