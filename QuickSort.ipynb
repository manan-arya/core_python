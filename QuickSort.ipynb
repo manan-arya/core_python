{
 "cells": [
  {
   "cell_type": "code",
   "execution_count": 38,
   "metadata": {},
   "outputs": [],
   "source": [
    "def quickSort(arr):\n",
    "    def quick(arr,left_pointer,right_pointer):\n",
    "        if left_pointer < right_pointer and left_pointer >= 0 and right_pointer >= 0:\n",
    "            pivot = partition(left_pointer,right_pointer,arr)\n",
    "            quick(arr,left_pointer,pivot-1)\n",
    "            quick(arr,pivot+1,right_pointer)\n",
    "    def partition(low,high,arr):\n",
    "        pivot = arr[high]\n",
    "        i = low - 1\n",
    "        for j in range(low,high):\n",
    "            if arr[j] <= pivot:\n",
    "                i += 1\n",
    "                arr[j],arr[i] = arr[i],arr[j]\n",
    "        arr[i+1],arr[high] = arr[high],arr[i+1]\n",
    "        return i+1\n",
    "    quick(a,0,len(arr)-1)\n",
    "    return arr"
   ]
  },
  {
   "cell_type": "code",
   "execution_count": 40,
   "metadata": {},
   "outputs": [
    {
     "name": "stdout",
     "output_type": "stream",
     "text": [
      "[2, 4, 5, 6, 7, 15]\n"
     ]
    }
   ],
   "source": [
    "#a = [5,7,4,2,15,6]\n",
    "#quickSort(a,0,len(a)-1)\n",
    "#quickSort(a)\n",
    "print(a)"
   ]
  }
 ],
 "metadata": {
  "kernelspec": {
   "display_name": "Python 3",
   "language": "python",
   "name": "python3"
  },
  "language_info": {
   "codemirror_mode": {
    "name": "ipython",
    "version": 3
   },
   "file_extension": ".py",
   "mimetype": "text/x-python",
   "name": "python",
   "nbconvert_exporter": "python",
   "pygments_lexer": "ipython3",
   "version": "3.6.5"
  }
 },
 "nbformat": 4,
 "nbformat_minor": 2
}
